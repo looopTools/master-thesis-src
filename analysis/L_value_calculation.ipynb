{
 "cells": [
  {
   "cell_type": "code",
   "execution_count": 1,
   "metadata": {},
   "outputs": [
    {
     "name": "stdout",
     "output_type": "stream",
     "text": [
      "l value for g: 8 is 512\n",
      "l value for g: 16 is 256\n",
      "l value for g: 32 is 128\n",
      "l value for g: 64 is 64\n",
      "l value for g: 128 is 32\n",
      "l value for g: 256 is 16\n"
     ]
    }
   ],
   "source": [
    "def calc_l(cache_size, g, t):\n",
    "    return cache_size / (g * t)\n",
    "\n",
    "cache_size = 32768\n",
    "g = [8, 16, 32, 64, 128, 256]\n",
    "t = 8 \n",
    "\n",
    "for symbols in g:\n",
    "    print 'l value for g: {} is {}'.format(symbols, calc_l(cache_size, symbols, t))"
   ]
  },
  {
   "cell_type": "code",
   "execution_count": 4,
   "metadata": {},
   "outputs": [
    {
     "name": "stdout",
     "output_type": "stream",
     "text": [
      "k for g: 16 and l: 256 is 131072\n",
      "k for g: 16 and l: 256 is 131072\n",
      "k for g: 16 and l: 256 is 131072\n",
      "k for g: 16 and l: 256 is 131072\n",
      "k for g: 16 and l: 256 is 131072\n",
      "k for g: 16 and l: 256 is 131072\n"
     ]
    }
   ],
   "source": [
    "def calc_k(ds, g, l):\n",
    "    return ds / (g * l)\n",
    "\n",
    "g = {8:512, 16:256, 32:128, 64:64, 128:32, 256:16}\n",
    "ds = 536870912 # 512MB in bytes\n",
    "\n",
    "print 'k for g: {} and l: {} is {}'.format(key, value, calc_k(ds, 8, 512))\n",
    "print 'k for g: {} and l: {} is {}'.format(key, value, calc_k(ds, 16, 256))\n",
    "print 'k for g: {} and l: {} is {}'.format(key, value, calc_k(ds, 32, 128))\n",
    "print 'k for g: {} and l: {} is {}'.format(key, value, calc_k(ds, 64, 64))\n",
    "print 'k for g: {} and l: {} is {}'.format(key, value, calc_k(ds, 128, 32))\n",
    "print 'k for g: {} and l: {} is {}'.format(key, value, calc_k(ds, 256, 16))\n",
    "\n"
   ]
  },
  {
   "cell_type": "code",
   "execution_count": 6,
   "metadata": {},
   "outputs": [
    {
     "name": "stdout",
     "output_type": "stream",
     "text": [
      "\\delta x for g: 16 and l: 256 is 2\n",
      "\\delta x for g: 16 and l: 256 is 2\n",
      "\\delta x for g: 16 and l: 256 is 2\n",
      "\\delta x for g: 16 and l: 256 is 2\n",
      "\\delta x for g: 16 and l: 256 is 2\n"
     ]
    }
   ],
   "source": [
    "def calc_diff(g, k, g2, k2, r):\n",
    "    return ((2*g2 - 1) * k2 * (g2 + r))/ ((2 * g - 1 ) * k * (g + r))\n",
    "\n",
    "print '\\delta x for g: {} and l: {} is {}'.format(16, 256, calc_diff(8, 512, 16, 256, 0))\n",
    "print '\\delta x for g: {} and l: {} is {}'.format(16, 256, calc_diff(16, 256, 32, 128, 0))\n",
    "print '\\delta x for g: {} and l: {} is {}'.format(16, 256, calc_diff(32, 128, 64, 64, 0))\n",
    "print '\\delta x for g: {} and l: {} is {}'.format(16, 256, calc_diff(64, 64, 128, 32, 0))\n",
    "print '\\delta x for g: {} and l: {} is {}'.format(16, 256, calc_diff(128, 32, 256, 16, 0))"
   ]
  },
  {
   "cell_type": "code",
   "execution_count": null,
   "metadata": {
    "collapsed": true
   },
   "outputs": [],
   "source": []
  }
 ],
 "metadata": {
  "kernelspec": {
   "display_name": "Python 2",
   "language": "python",
   "name": "python2"
  },
  "language_info": {
   "codemirror_mode": {
    "name": "ipython",
    "version": 2
   },
   "file_extension": ".py",
   "mimetype": "text/x-python",
   "name": "python",
   "nbconvert_exporter": "python",
   "pygments_lexer": "ipython2",
   "version": "2.7.12"
  }
 },
 "nbformat": 4,
 "nbformat_minor": 2
}
