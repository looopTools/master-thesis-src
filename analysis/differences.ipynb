{
 "cells": [
  {
   "cell_type": "code",
   "execution_count": 2,
   "metadata": {},
   "outputs": [
    {
     "name": "stdout",
     "output_type": "stream",
     "text": [
      "8053063680\n",
      "16642998272\n",
      "True\n",
      "2.0\n"
     ]
    }
   ],
   "source": [
    "def __full_vector(symbols=1, symbol_size=1, redundancy=0, threads=1):\n",
    "    symbols = symbols / threads\n",
    "    return (2 * symbols - 1) * symbol_size * (symbols + redundancy)\n",
    "\n",
    "def difference(s1, ss1, s2, ss2, r1=0, t1=1, r2=0, t2=1, algorithm='full', ):\n",
    "    if algorithm == 'full':\n",
    "        return float(float(__full_vector(s2, ss2, r2, t2) / __full_vector(s1, ss1, r1, t1)))\n",
    "\n",
    "s1 = 8\n",
    "ss1 = 67108864\n",
    "\n",
    "s2 = 16\n",
    "ss2 = 33554432\n",
    "   \n",
    "print __full_vector(symbols=s1, symbol_size=ss1)\n",
    "print __full_vector(symbols=s2, symbol_size=ss2)\n",
    "print __full_vector(symbols=s1, symbol_size=ss1) < __full_vector(symbols=s2, symbol_size=ss2)\n",
    "diff = difference(s1=s1,ss1=ss1,s2=s2,ss2=ss2, t1=)\n",
    "print(diff)"
   ]
  },
  {
   "cell_type": "code",
   "execution_count": null,
   "metadata": {
    "collapsed": true
   },
   "outputs": [],
   "source": []
  }
 ],
 "metadata": {
  "kernelspec": {
   "display_name": "Python 2",
   "language": "python",
   "name": "python2"
  },
  "language_info": {
   "codemirror_mode": {
    "name": "ipython",
    "version": 2
   },
   "file_extension": ".py",
   "mimetype": "text/x-python",
   "name": "python",
   "nbconvert_exporter": "python",
   "pygments_lexer": "ipython2",
   "version": "2.7.12"
  }
 },
 "nbformat": 4,
 "nbformat_minor": 2
}
