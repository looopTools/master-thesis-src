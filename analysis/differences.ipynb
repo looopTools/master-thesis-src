{
 "cells": [
  {
   "cell_type": "code",
   "execution_count": 5,
   "metadata": {},
   "outputs": [
    {
     "name": "stdout",
     "output_type": "stream",
     "text": [
      "0.483870967742\n"
     ]
    }
   ],
   "source": [
    "def __full_vector(symbols=1, symbol_size=1, redundancy=0):\n",
    "    return (2 * symbols - 1) * symbol_size * (symbols + redundancy)\n",
    "\n",
    "def difference(s1, ss1, s2, ss2, r1=0, r2=0, algorithm='full'):\n",
    "    if algorithm == 'full':\n",
    "        return float(__full_vector(s1, ss1, r1)) / float(__full_vector(s2, ss2, r2))\n",
    "\n",
    "s1 = 8\n",
    "ss1 = 67108864\n",
    "\n",
    "s2 = 16\n",
    "ss2 = 33554432\n",
    "   \n",
    "diff = difference(s1=s1,ss1=ss1,s2=s2,ss2=ss2)\n",
    "print(diff)"
   ]
  },
  {
   "cell_type": "code",
   "execution_count": null,
   "metadata": {
    "collapsed": true
   },
   "outputs": [],
   "source": []
  }
 ],
 "metadata": {
  "kernelspec": {
   "display_name": "Python 2",
   "language": "python",
   "name": "python2"
  },
  "language_info": {
   "codemirror_mode": {
    "name": "ipython",
    "version": 2
   },
   "file_extension": ".py",
   "mimetype": "text/x-python",
   "name": "python",
   "nbconvert_exporter": "python",
   "pygments_lexer": "ipython2",
   "version": "2.7.12"
  }
 },
 "nbformat": 4,
 "nbformat_minor": 2
}
