{
 "cells": [
  {
   "cell_type": "code",
   "execution_count": 25,
   "metadata": {},
   "outputs": [],
   "source": [
    "class Result:\n",
    "    \n",
    "    threads = -1\n",
    "    symbol_size = -1\n",
    "    symbols = -1\n",
    "    results = list()\n",
    "    def __init__(self, arr):\n",
    "        self.threads = (arr[0].split(','))[3]\n",
    "        self.symbols = (arr[0].split(','))[4]\n",
    "        self.symbol_size = (arr[0].split(','))[5]  \n",
    "        self.__get_results(arr)\n",
    "        \n",
    "    def __get_results(self, arr):\n",
    "        for entry in arr:\n",
    "            self.results.append(\n",
    "            {'start_time': int((entry.split(','))[0]),\n",
    "             'end_time': int((entry.split(','))[1])\n",
    "            })\n",
    "            \n",
    "    def average(self):\n",
    "        result = 0\n",
    "        for entry in self.results:\n",
    "            result = result + (entry.get('end_time') - entry.get('start_time'))\n",
    "            # print result\n",
    "        result = float(result) / len(self.results)\n",
    "        return result\n",
    "\n",
    "def read_file(file_name):\n",
    "    with open(file_name) as file:\n",
    "        content = file.readlines()\n",
    "    content = [line.strip() for line in content]\n",
    "    return content\n",
    "\n",
    "res = Result(read_file('../results/smart_encoder/1524532350_smart_encoder_benchmark_8_8_67108864'))\n",
    "res1 = Result(read_file('../results/smart_encoder/1524523661_smart_encoder_benchmark_8_16_33554432'))\n",
    "res2 = Result(read_file('../results/smart_encoder/1524549067_smart_encoder_benchmark_8_32_16777216'))\n",
    "res3 = Result(read_file('../results/smart_encoder/1524540683_smart_encoder_benchmark_8_64_8388608'))\n",
    "res4 = Result(read_file('../results/smart_encoder/1524557384_smart_encoder_benchmark_8_128_4194304'))\n",
    "res5 = Result(read_file('../results/smart_encoder/1524515170_smart_encoder_benchmark_8_256_2097152'))\n"
   ]
  },
  {
   "cell_type": "code",
   "execution_count": null,
   "metadata": {
    "collapsed": true
   },
   "outputs": [],
   "source": []
  },
  {
   "cell_type": "code",
   "execution_count": null,
   "metadata": {
    "collapsed": true
   },
   "outputs": [],
   "source": []
  }
 ],
 "metadata": {
  "kernelspec": {
   "display_name": "Python 2",
   "language": "python",
   "name": "python2"
  },
  "language_info": {
   "codemirror_mode": {
    "name": "ipython",
    "version": 2
   },
   "file_extension": ".py",
   "mimetype": "text/x-python",
   "name": "python",
   "nbconvert_exporter": "python",
   "pygments_lexer": "ipython2",
   "version": "2.7.12"
  }
 },
 "nbformat": 4,
 "nbformat_minor": 2
}
